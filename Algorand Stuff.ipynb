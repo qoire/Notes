{
 "cells": [
  {
   "cell_type": "code",
   "execution_count": 1,
   "metadata": {},
   "outputs": [],
   "source": [
    "from scipy.stats import binom\n",
    "import matplotlib.pyplot as plt\n",
    "import numpy as np"
   ]
  },
  {
   "cell_type": "code",
   "execution_count": 106,
   "metadata": {},
   "outputs": [
    {
     "data": {
      "image/png": "[encoded data removed]",
      "text/plain": [
       "<Figure size 432x288 with 1 Axes>"
      ]
     },
     "metadata": {
      "needs_background": "light"
     },
     "output_type": "display_data"
    },
    {
     "data": {
      "image/png": "[encoded data removed]",
      "text/plain": [
       "<Figure size 432x288 with 1 Axes>"
      ]
     },
     "metadata": {
      "needs_background": "light"
     },
     "output_type": "display_data"
    },
    {
     "name": "stdout",
     "output_type": "stream",
     "text": [
      "0.02844396682049039\n"
     ]
    }
   ],
   "source": [
    "fig, ax = plt.subplots(1, 1)\n",
    "\n",
    "# example test case\n",
    "W = 100 # 100 coins in total\n",
    "n = 100\n",
    "\n",
    "# t = the amount of members needed for this selection, lets say 10% of the population\n",
    "t = 50\n",
    "p = t/W\n",
    "\n",
    "x = np.arange(0, n, 1)\n",
    "ax.plot(x, binom.pmf(x, n, p), 'bo')\n",
    "plt.title(f\"PDF [w={n}, W={W}, t={t}, p={p}]\")\n",
    "plt.show()\n",
    "\n",
    "fig, ax = plt.subplots(1, 1)\n",
    "ax.plot(x, binom.cdf(x, n, p), 'ro')\n",
    "plt.title(f\"CDF [w={n}, W={W}, t={t}, p={p}]\")\n",
    "plt.show()\n",
    "\n",
    "# given an interval j, find the sum the were talking about in the paper\n",
    "# this pretty much calculates the cdf\n",
    "def sortition_algo_interval(j, n, p):\n",
    "    x_lower = np.arange(0, j+1, 1)\n",
    "    x_upper = np.arange(0, j+2, 1)\n",
    "    return sum(map(lambda x: binom.pmf(x, n, p), x_lower))\n",
    "\n",
    "# transform this into the proper game of interval selection\n",
    "# assume val = uniform RV [0, 1]\n",
    "def sortition(val, n, p):\n",
    "    k = 0\n",
    "    while True:\n",
    "        lower = binom.cdf(k, n, p)\n",
    "        upper = binom.cdf(k + 1, n, p)\n",
    "        if (lower <= val and val < upper):\n",
    "            return (k)\n",
    "        k = k + 1\n",
    "        \n",
    "hash_rv = np.random.uniform(0, 1)\n",
    "\n",
    "# expectation is that given these odds, p = 0.5, we should see us getting 50% of the all seats\n",
    "# assuming W = 100, w = 100 (so we own all the money)\n",
    "\n",
    "print(binom.cdf(40, n, p))"
   ]
  },
  {
   "cell_type": "code",
   "execution_count": 108,
   "metadata": {},
   "outputs": [],
   "source": [
    "# brute force calculates distribution\n",
    "def calc_seats(n, p, iterations):\n",
    "    return list(map(lambda x: sortition(np.random.uniform(0, 1), n, p), range(iterations)))"
   ]
  },
  {
   "cell_type": "code",
   "execution_count": null,
   "metadata": {},
   "outputs": [],
   "source": [
    "iterations = 5000\n",
    "out = calc_seats(n, p, iterations)\n",
    "\n",
    "plt.hist(out, bins='auto')\n",
    "plt.title(f'Histogram [it={iterations}, n={n}, p={p}]')\n",
    "plt.show()"
   ]
  },
  {
   "cell_type": "code",
   "execution_count": null,
   "metadata": {},
   "outputs": [],
   "source": []
  }
 ],
 "metadata": {
  "kernelspec": {
   "display_name": "notebook",
   "language": "python",
   "name": "notebook"
  },
  "language_info": {
   "codemirror_mode": {
    "name": "ipython",
    "version": 3
   },
   "file_extension": ".py",
   "mimetype": "text/x-python",
   "name": "python",
   "nbconvert_exporter": "python",
   "pygments_lexer": "ipython3",
   "version": "3.7.2"
  }
 },
 "nbformat": 4,
 "nbformat_minor": 2
}
