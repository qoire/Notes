{
 "cells": [
  {
   "cell_type": "code",
   "execution_count": 44,
   "metadata": {},
   "outputs": [],
   "source": [
    "# initial setup and calculations\n",
    "t0_special = 0\n",
    "interval_secs = 2592000\n",
    "precision = 10 ** 18\n",
    "periods = 36\n",
    "\n",
    "start_block_timestamp = 1513627200\n",
    "deposits = [\n",
    "    {\n",
    "        \"eth_address\": \"0xb493c9C0C0aBfd9847baB53231774f13BF882eE9\",\n",
    "        \"face_value\": 3581474393280396\n",
    "    },\n",
    "    {\n",
    "        \"eth_address\": \"0x0e24D8Fcdf0c319dF03998Cc53F4FBA035D9a4f9\",\n",
    "        \"face_value\": 9318691733200000\n",
    "    },\n",
    "    {\n",
    "        \"eth_address\": \"0x4778bE92Dd5c51035bf80Fca564ba5E7Fad5FB6d\",\n",
    "        \"face_value\": 2795607519960000\n",
    "    },\n",
    "    {\n",
    "        \"eth_address\": \"0x8567462b8E8303637F0004B2E664993314e58BD7\",\n",
    "        \"face_value\": 2795607519960000\n",
    "    }\n",
    "]\n",
    "\n",
    "total_fv = sum([a[\"face_value\"] for a in deposits])\n",
    "total = 30489196119340505\n",
    "\n",
    "# does not have the extra guards\n",
    "def period_at(timestamp):\n",
    "    return ((timestamp - start_block_timestamp) // interval_secs) + 1;\n",
    "\n",
    "def fraction_withdraw_at(timestamp):\n",
    "    return ((t0_special + period_at(timestamp)) * precision) // (t0_special + periods)\n",
    "\n",
    "def withdraw_at_timestamp(deposit, total, total_fv, timestamp):\n",
    "    frac = fraction_withdraw_at(timestamp)\n",
    "    return ((deposit * frac * total) // total_fv) // precision\n",
    "\n",
    "def total_withdrawal(deposit, timestamp):\n",
    "    return withdraw_at_timestamp(deposit, total, total_fv, timestamp)"
   ]
  },
  {
   "cell_type": "markdown",
   "metadata": {},
   "source": [
    "This is the total withdrawn as is on December 1st, meaning the last payout we were scheduled to do (Nov) has already been done:"
   ]
  },
  {
   "cell_type": "code",
   "execution_count": 45,
   "metadata": {},
   "outputs": [
    {
     "name": "stdout",
     "output_type": "stream",
     "text": [
      "address: 0xb493c9C0C0aBfd9847baB53231774f13BF882eE9 total: 3581474393280396 withdrawn: 1968417505620333 remaining: 1613056887660063\n",
      "address: 0x0e24D8Fcdf0c319dF03998Cc53F4FBA035D9a4f9 total: 9318691733200000 withdrawn: 5121654917183230 remaining: 4197036816016770\n",
      "address: 0x4778bE92Dd5c51035bf80Fca564ba5E7Fad5FB6d total: 2795607519960000 withdrawn: 1536496475154969 remaining: 1259111044805031\n",
      "address: 0x8567462b8E8303637F0004B2E664993314e58BD7 total: 2795607519960000 withdrawn: 1536496475154969 remaining: 1259111044805031\n",
      "total remaining in contract:\t 20326130746227004\n",
      "total face_value remaining:\t 8328315793286895\n"
     ]
    }
   ],
   "source": [
    "# after november timestamp (dec 01)\n",
    "dec_01 = 1543622400\n",
    "\n",
    "# note that this calculation is incorrect, as it doesn't account for the scaling increase for each account\n",
    "total_withdrawn = 0\n",
    "total_fv_remaining = 0\n",
    "for i in deposits:\n",
    "    withdrawn = total_withdrawal(i[\"face_value\"], dec_01)\n",
    "    total_withdrawn += withdrawn\n",
    "    total_fv_remaining += i[\"face_value\"] - withdrawn\n",
    "    print(\"address:\", i[\"eth_address\"],\n",
    "          \"total:\",i[\"face_value\"],\n",
    "          \"withdrawn:\", withdrawn, \n",
    "          \"remaining:\", i[\"face_value\"] - withdrawn)\n",
    "    \n",
    "print(\"total remaining in contract:\\t\", total - total_withdrawn)\n",
    "print(\"total face_value remaining:\\t\", total_fv_remaining)"
   ]
  },
  {
   "cell_type": "markdown",
   "metadata": {},
   "source": [
    "After Discussing with Jamal, this is the conclusion. The numbers seem off compared to his excel spreadsheet because we have scaled these calculations with a bonus. This needs to be factored in for the calculations of the values on Aion."
   ]
  },
  {
   "cell_type": "code",
   "execution_count": 46,
   "metadata": {},
   "outputs": [
    {
     "name": "stdout",
     "output_type": "stream",
     "text": [
      "trs bonus allocation: 11997814952940109\n",
      "percentage increase over face value:  1.6488328181099114\n"
     ]
    }
   ],
   "source": [
    "eth_trs_bonus = total - total_fv\n",
    "print(\"trs bonus allocation:\", eth_trs_bonus)\n",
    "\n",
    "bonus_percentage_increase = total / total_fv\n",
    "print(\"percentage increase over face value: \", bonus_percentage_increase)"
   ]
  },
  {
   "cell_type": "code",
   "execution_count": 47,
   "metadata": {},
   "outputs": [
    {
     "name": "stdout",
     "output_type": "stream",
     "text": [
      "address: 0xb493c9C0C0aBfd9847baB53231774f13BF882eE9 original: 3581474393280396 scaled: 5905252516861000\n",
      "address: 0x0e24D8Fcdf0c319dF03998Cc53F4FBA035D9a4f9 original: 9318691733200000 scaled: 15364964751549690\n",
      "address: 0x4778bE92Dd5c51035bf80Fca564ba5E7Fad5FB6d original: 2795607519960000 scaled: 4609489425464907\n",
      "address: 0x8567462b8E8303637F0004B2E664993314e58BD7 original: 2795607519960000 scaled: 4609489425464907\n",
      "total: 30489196119340505\n",
      "scaled total: 30489196119340504\n"
     ]
    }
   ],
   "source": [
    "# scaled initial deposits\n",
    "def scale_face(fv):\n",
    "    return ((fv * total * precision) // total_fv) // precision\n",
    "    \n",
    "for i in deposits:\n",
    "    i[\"scaled_face_value\"] = scale_face(i[\"face_value\"])\n",
    "    print(\"address:\", i[\"eth_address\"],\n",
    "          \"original:\", i[\"face_value\"], \n",
    "          \"scaled:\", i[\"scaled_face_value\"])\n",
    "    \n",
    "print(\"total:\", total);\n",
    "print(\"scaled total:\", sum([i[\"scaled_face_value\"] for i in deposits]))"
   ]
  },
  {
   "cell_type": "markdown",
   "metadata": {},
   "source": [
    "So rerunning the calculations before, with these scaled values:"
   ]
  },
  {
   "cell_type": "code",
   "execution_count": 48,
   "metadata": {},
   "outputs": [
    {
     "name": "stdout",
     "output_type": "stream",
     "text": [
      "address: 0xb493c9C0C0aBfd9847baB53231774f13BF882eE9 total: 5905252516861000 withdrawn: 1968417505620333 remaining: 3936835011240667\n",
      "address: 0x0e24D8Fcdf0c319dF03998Cc53F4FBA035D9a4f9 total: 15364964751549690 withdrawn: 5121654917183230 remaining: 10243309834366460\n",
      "address: 0x4778bE92Dd5c51035bf80Fca564ba5E7Fad5FB6d total: 4609489425464907 withdrawn: 1536496475154969 remaining: 3072992950309938\n",
      "address: 0x8567462b8E8303637F0004B2E664993314e58BD7 total: 4609489425464907 withdrawn: 1536496475154969 remaining: 3072992950309938\n",
      "total remaining in contract:\t 20326130746227004\n",
      "total face_value remaining:\t 20326130746227003\n"
     ]
    }
   ],
   "source": [
    "total_fv = sum([a[\"scaled_face_value\"] for a in deposits])\n",
    "total = 30489196119340505\n",
    "\n",
    "# after november timestamp (dec 01)\n",
    "dec_01 = 1543622400\n",
    "\n",
    "# note that this calculation is incorrect, as it doesn't account for the scaling increase for each account\n",
    "total_withdrawn = 0\n",
    "total_fv_remaining = 0\n",
    "for i in deposits:\n",
    "    withdrawn = total_withdrawal(i[\"scaled_face_value\"], dec_01)\n",
    "    total_withdrawn += withdrawn\n",
    "    total_fv_remaining += i[\"scaled_face_value\"] - withdrawn\n",
    "    i[\"scaled_remaining\"] = i[\"scaled_face_value\"] - withdrawn\n",
    "    i[\"final_remaining\"] = i[\"scaled_remaining\"]\n",
    "    print(\"address:\", i[\"eth_address\"],\n",
    "          \"total:\",i[\"scaled_face_value\"],\n",
    "          \"withdrawn:\", withdrawn, \n",
    "          \"remaining:\", i[\"scaled_remaining\"])\n",
    "    \n",
    "print(\"total remaining in contract:\\t\", total - total_withdrawn)\n",
    "print(\"total face_value remaining:\\t\", total_fv_remaining)"
   ]
  },
  {
   "cell_type": "markdown",
   "metadata": {},
   "source": [
    "Lastly, we must factor in that we are essentially netting out a balance of around 197k per month:"
   ]
  },
  {
   "cell_type": "code",
   "execution_count": 50,
   "metadata": {},
   "outputs": [
    {
     "name": "stdout",
     "output_type": "stream",
     "text": [
      "address: 0xb493c9C0C0aBfd9847baB53231774f13BF882eE9 remaining: 3936835011240667\n",
      "address: 0x0e24D8Fcdf0c319dF03998Cc53F4FBA035D9a4f9 remaining: 10243309834366460\n",
      "address: 0x4778bE92Dd5c51035bf80Fca564ba5E7Fad5FB6d remaining: 4021860166309938\n",
      "address: 0x8567462b8E8303637F0004B2E664993314e58BD7 remaining: 2124125734309938\n"
     ]
    }
   ],
   "source": [
    "balance_transfer = 19768067000000\n",
    "\n",
    "# this is crappy coding\n",
    "balance_net = balance_transfer * 24\n",
    "\n",
    "# arbitrarily decide that the third index offset gets the balance from the second\n",
    "deposits[2][\"final_remaining\"] += balance_net\n",
    "deposits[3][\"final_remaining\"] -= balance_net\n",
    "\n",
    "for i in deposits:\n",
    "    print(\"address:\", i[\"eth_address\"],\n",
    "          \"remaining:\", i[\"final_remaining\"])"
   ]
  },
  {
   "cell_type": "code",
   "execution_count": null,
   "metadata": {},
   "outputs": [],
   "source": []
  }
 ],
 "metadata": {
  "kernelspec": {
   "display_name": "Python 3",
   "language": "python",
   "name": "python3"
  },
  "language_info": {
   "codemirror_mode": {
    "name": "ipython",
    "version": 3
   },
   "file_extension": ".py",
   "mimetype": "text/x-python",
   "name": "python",
   "nbconvert_exporter": "python",
   "pygments_lexer": "ipython3",
   "version": "3.7.2"
  }
 },
 "nbformat": 4,
 "nbformat_minor": 2
}
